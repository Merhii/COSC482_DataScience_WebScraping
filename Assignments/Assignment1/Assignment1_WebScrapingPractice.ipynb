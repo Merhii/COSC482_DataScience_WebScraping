{
  "nbformat": 4,
  "nbformat_minor": 0,
  "metadata": {
    "colab": {
      "provenance": [],
      "include_colab_link": true
    },
    "kernelspec": {
      "name": "python3",
      "display_name": "Python 3"
    },
    "language_info": {
      "name": "python"
    }
  },
  "cells": [
    {
      "cell_type": "markdown",
      "metadata": {
        "id": "view-in-github",
        "colab_type": "text"
      },
      "source": [
        "<a href=\"https://colab.research.google.com/github/Merhii/COSC482_DataScience_WebScraping/blob/main/Assignments/Assignment1/Assignment1_WebScrapingPractice.ipynb\" target=\"_parent\"><img src=\"https://colab.research.google.com/assets/colab-badge.svg\" alt=\"Open In Colab\"/></a>"
      ]
    },
    {
      "cell_type": "markdown",
      "source": [
        "# COSC 482 – Data Science and Web Scraping\n",
        "## Assignment 1: Web Scraping Practice\n",
        "\n",
        "**Objective:**\n",
        "\n",
        "Practice web scraping with BeautifulSoup using a single large HTML content. Tasks include:\n",
        "- Extracting elements based on tags.\n",
        "- Filtering elements based on attributes or text.\n",
        "- Storing scraped data in pandas DataFrames.\n"
      ],
      "metadata": {
        "id": "kY9JVcsqHVjh"
      }
    },
    {
      "cell_type": "code",
      "source": [
        "# Install and import necessary libraries\n",
        "!pip install beautifulsoup4 pandas\n",
        "1234 # Test\n",
        "from bs4 import BeautifulSoup\n",
        "import pandas as pd"
      ],
      "metadata": {
        "id": "PdNLL6d8TFNz"
      },
      "execution_count": null,
      "outputs": []
    },
    {
      "cell_type": "markdown",
      "source": [
        "### HTML Content\n",
        "Below is the HTML content you will work with."
      ],
      "metadata": {
        "id": "oulaMjXwTKUW"
      }
    },
    {
      "cell_type": "code",
      "source": [
        "html_content = \"\"\"<html>\n",
        "    <head>\n",
        "        <title>Web Scraping Practice</title>\n",
        "    </head>\n",
        "    <body>\n",
        "        <h1>Welcome to the Web Scraping Assignment</h1>\n",
        "        <p>This is an assignment to practice web scraping using BeautifulSoup.</p>\n",
        "\n",
        "        <h2>Featured Articles</h2>\n",
        "        <div class=\"articles\">\n",
        "            <div class=\"article\">\n",
        "                <h3>Introduction to Python</h3>\n",
        "                <p>This article introduces Python programming for beginners.</p>\n",
        "                <a href=\"https://example.com/python-intro\" class=\"external-link\">Read more</a>\n",
        "            </div>\n",
        "            <div class=\"article\">\n",
        "                <h3>Advanced Web Scraping</h3>\n",
        "                <p>Learn advanced techniques for scraping dynamic content.</p>\n",
        "                <a href=\"https://example.com/web-scraping\" class=\"external-link\">Read more</a>\n",
        "            </div>\n",
        "            <div class=\"article\">\n",
        "                <h3>Data Science with Python</h3>\n",
        "                <p>Explore how Python is used in data science and machine learning.</p>\n",
        "                <a href=\"https://example.com/data-science\" class=\"external-link\">Read more</a>\n",
        "            </div>\n",
        "        </div>\n",
        "\n",
        "        <h2>Resources</h2>\n",
        "        <ul>\n",
        "            <li><a href=\"https://example.com/beginners\" class=\"external-link\">Python for Beginners</a></li>\n",
        "            <li><a href=\"https://example.com/intermediate\" class=\"external-link\">Intermediate Python</a></li>\n",
        "            <li><a href=\"https://example.com/html\" class=\"internal-link\">Learn HTML</a></li>\n",
        "            <li><a href=\"https://example.com/advanced-python\" class=\"external-link\">Advanced Python</a></li>\n",
        "        </ul>\n",
        "\n",
        "        <h2>Comments</h2>\n",
        "        <div class=\"comments\">\n",
        "            <div class=\"comment\">\n",
        "                <p class=\"author\">Alice</p>\n",
        "                <p class=\"content\">This article on Python was very helpful!</p>\n",
        "            </div>\n",
        "            <div class=\"comment\">\n",
        "                <p class=\"author\">Bob</p>\n",
        "                <p class=\"content\">I learned so much about web scraping!</p>\n",
        "            </div>\n",
        "            <div class=\"comment\">\n",
        "                <p class=\"author\">Charlie</p>\n",
        "                <p class=\"content\">Great resource for beginners in Python.</p>\n",
        "            </div>\n",
        "        </div>\n",
        "    </body>\n",
        "</html>\"\"\""
      ],
      "metadata": {
        "id": "wVTqbBkkTL4I"
      },
      "execution_count": null,
      "outputs": []
    },
    {
      "cell_type": "markdown",
      "source": [
        "### Task 1: Extract the Title and Heading\n",
        "**Objective:** Extract and print the title (`<title>`) and the main heading (`<h1>`) of the page."
      ],
      "metadata": {
        "id": "HGUNsScLTenh"
      }
    },
    {
      "cell_type": "code",
      "source": [
        "# Code Here\n",
        "soup = BeautifulSoup(html_content, 'html.parser')\n",
        "# title = ...\n",
        "# main_heading = ..."
      ],
      "metadata": {
        "id": "3_vFGousTeTg"
      },
      "execution_count": null,
      "outputs": []
    },
    {
      "cell_type": "markdown",
      "source": [
        "###Task 2: Extract All Links\n",
        "**Objective:** Extract all `<a>` tags and print their text (link text) and `href` attributes."
      ],
      "metadata": {
        "id": "ll3uKvRWVXSz"
      }
    },
    {
      "cell_type": "code",
      "source": [
        "# Code Here"
      ],
      "metadata": {
        "id": "jceUkSRUVxum"
      },
      "execution_count": null,
      "outputs": []
    },
    {
      "cell_type": "markdown",
      "source": [
        "###Task 3: Extract Links with Specific Class\n",
        "**Objective:** Extract links that have the class `external-link` and print their URLs.\n"
      ],
      "metadata": {
        "id": "jP0eyuk2Vye2"
      }
    },
    {
      "cell_type": "code",
      "source": [
        "# Code Here"
      ],
      "metadata": {
        "id": "dIdsFzJbV6rF"
      },
      "execution_count": null,
      "outputs": []
    },
    {
      "cell_type": "markdown",
      "source": [
        "### Task 4: Extract Articles\n",
        "**Objective:** Extract the titles (`<h3>`) and content (`<p>`) of the articles under the \"Featured Articles\" section."
      ],
      "metadata": {
        "id": "E16HiulMV8Tf"
      }
    },
    {
      "cell_type": "code",
      "source": [
        "# Code Here"
      ],
      "metadata": {
        "id": "xtoeQWHUWJ-q"
      },
      "execution_count": null,
      "outputs": []
    },
    {
      "cell_type": "markdown",
      "source": [
        "###Task 5: Extract Articles Containing \"Python\" in Title\n",
        "**Objective:** Extract and print only the articles where the title contains the word `“Python”`."
      ],
      "metadata": {
        "id": "dr8A81j9WVUj"
      }
    },
    {
      "cell_type": "code",
      "source": [
        "# Code Here"
      ],
      "metadata": {
        "id": "LCzeWl2LWn3-"
      },
      "execution_count": null,
      "outputs": []
    },
    {
      "cell_type": "markdown",
      "source": [
        "###Task 6: Extract Comments by a Specific Author\n",
        "**Objective:** Extract the comments made by “Alice” and print the comment content."
      ],
      "metadata": {
        "id": "a33RBMF-Wp2G"
      }
    },
    {
      "cell_type": "code",
      "source": [
        "# Code Here"
      ],
      "metadata": {
        "id": "5O41fv0LWuLU"
      },
      "execution_count": null,
      "outputs": []
    },
    {
      "cell_type": "markdown",
      "source": [
        "###Task 7: Storing Articles in a pandas DataFrame\n",
        "**Objective:** Store the article titles and content in a pandas DataFrame and print it."
      ],
      "metadata": {
        "id": "UcCeJYjZWvgo"
      }
    },
    {
      "cell_type": "code",
      "source": [
        "# Code Here"
      ],
      "metadata": {
        "id": "tJnxDWlkW3WF"
      },
      "execution_count": null,
      "outputs": []
    },
    {
      "cell_type": "markdown",
      "source": [
        "###Task 8: Storing Comments in a pandas DataFrame\n",
        "**Objective:** Store the authors and their comments in a pandas DataFrame and print it."
      ],
      "metadata": {
        "id": "FN7_-jquW8Bu"
      }
    },
    {
      "cell_type": "code",
      "source": [
        "# Code Here"
      ],
      "metadata": {
        "id": "BtlavOWRW_dn"
      },
      "execution_count": null,
      "outputs": []
    },
    {
      "cell_type": "markdown",
      "source": [
        "###Task 9: Extract Links with Specific Words\n",
        "**Objective:** Extract links (`<a>` tags) where the link text contains the word \"Advanced\" and print the text and URL."
      ],
      "metadata": {
        "id": "7DmG9Ak9XCIm"
      }
    },
    {
      "cell_type": "code",
      "source": [
        "# Code Here"
      ],
      "metadata": {
        "id": "C87vfJnGXLEG"
      },
      "execution_count": null,
      "outputs": []
    }
  ]
}